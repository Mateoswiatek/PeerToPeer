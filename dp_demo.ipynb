{
 "cells": [
  {
   "cell_type": "code",
   "execution_count": 110,
   "metadata": {},
   "outputs": [
    {
     "name": "stdout",
     "output_type": "stream",
     "text": [
      "Sent: {\"type\": \"NewTaskRequest\", \"passwordHash\": \"2bb80d537b1da3e38bd30361aa855686bde0eacd7162fef6a25fe97bf527a25b\", \"alphabet\": \"abcdefghijklmnoprstuwyz0123456789\", \"maxLength\": 6, \"maxBatchSize\": 1000000}\n"
     ]
    }
   ],
   "source": [
    "import socket\n",
    "import json\n",
    "import hashlib\n",
    "\n",
    "\n",
    "HOST = 'localhost'\n",
    "PORT = 5000\n",
    "\n",
    "input_string = \"secret\"\n",
    "\n",
    "alphabet = \"abcdefghijklmnoprstuwyz0123456789\"\n",
    "\n",
    "batch_size = 1_000_000\n",
    "\n",
    "hash_object = hashlib.sha256()\n",
    "\n",
    "hash_object.update(input_string.encode('utf-8'))\n",
    "\n",
    "hashed_string = hash_object.hexdigest()\n",
    "\n",
    "message = {\n",
    "    \"type\": \"NewTaskRequest\",\n",
    "    \"passwordHash\": hashed_string,\n",
    "    \"alphabet\": alphabet,\n",
    "    \"maxLength\": len(input_string),\n",
    "    \"maxBatchSize\": batch_size\n",
    "}\n",
    "\n",
    "json_message = json.dumps(message)\n",
    "\n",
    "with socket.socket(socket.AF_INET, socket.SOCK_STREAM) as s:\n",
    "    s.connect((HOST, PORT))\n",
    "    s.sendall(json_message.encode('utf-8'))\n",
    "    print(f\"Sent: {json_message}\")\n",
    "    s.close()"
   ]
  }
 ],
 "metadata": {
  "kernelspec": {
   "display_name": "Python 3",
   "language": "python",
   "name": "python3"
  },
  "language_info": {
   "codemirror_mode": {
    "name": "ipython",
    "version": 3
   },
   "file_extension": ".py",
   "mimetype": "text/x-python",
   "name": "python",
   "nbconvert_exporter": "python",
   "pygments_lexer": "ipython3",
   "version": "3.12.6"
  }
 },
 "nbformat": 4,
 "nbformat_minor": 2
}
